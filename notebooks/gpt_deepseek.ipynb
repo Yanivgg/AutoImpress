{
 "cells": [
  {
   "cell_type": "markdown",
   "id": "bc5abf17",
   "metadata": {},
   "source": [
    "# GPT-4.1 vs DeepSeek Comparison for Medical Report Generation\n",
    "\n",
    "This notebook compares the performance of GPT-4.1 and DeepSeek models in generating medical report impressions."
   ]
  },
  {
   "cell_type": "markdown",
   "id": "4e50dce4",
   "metadata": {},
   "source": [
    "## Import Utility Functions\n",
    "\n",
    "Importing custom utility functions for model setup, data processing, and evaluation metrics."
   ]
  },
  {
   "cell_type": "code",
   "execution_count": null,
   "id": "e6ff4894",
   "metadata": {},
   "outputs": [],
   "source": []
  },
  {
   "cell_type": "code",
   "execution_count": 3,
   "id": "301baa90",
   "metadata": {},
   "outputs": [],
   "source": [
    "import sys\n",
    "sys.path.append('..')\n",
    "\n",
    "from utils_file import setup_azure_client_gpt41, setup_azure_client_gpt4o, process_samples,setup_deepseek_client, process_deepseek_samples,compute_bertscore,run_yesno_equivalence_judgment,compute_llmjudge_accuracy\n"
   ]
  },
  {
   "cell_type": "markdown",
   "id": "312fa8dd",
   "metadata": {},
   "source": [
    "## Configure API Credentials\n",
    "\n",
    "Setting up environment variables for:\n",
    "- GPT-4.1 API access\n",
    "- GPT-4 API access (for evaluation)\n",
    "- DeepSeek API access"
   ]
  },
  {
   "cell_type": "code",
   "execution_count": 20,
   "id": "4105cdd6",
   "metadata": {},
   "outputs": [],
   "source": [
    "\n",
    "# GPT-4.1\n",
    "os.environ[\"AZURE_ENDPOINT_GPT41\"] = \"xxxxxx.openai.azure.com/\"\n",
    "os.environ[\"AZURE_API_KEY_GPT41\"] = \"xxxxxxx\"\n",
    "os.environ[\"AZURE_API_VERSION_GPT41\"] = \"2024-12-01-preview\"\n",
    "\n",
    "# GPT-4o\n",
    "os.environ[\"AZURE_ENDPOINT_GPT4O\"] = \"xxxxxx.openai.azure.com/\"\n",
    "os.environ[\"AZURE_API_KEY_GPT4O\"] = \"xxxxxx\"\n",
    "os.environ[\"AZURE_API_VERSION_GPT4O\"] = \"2024-12-01-preview\"\n",
    "\n",
    "# DeepSeek\n",
    "os.environ[\"DEEPSEEK_ENDPOINT\"] = \"xxxxxx.services.ai.azure.com/models\"\n",
    "os.environ[\"DEEPSEEK_API_KEY\"] = \"xxxxxx\"\n",
    "os.environ[\"DEEPSEEK_API_VERSION\"] = \"2024-05-01-preview\"\n"
   ]
  },
  {
   "cell_type": "markdown",
   "id": "dc439a4f",
   "metadata": {},
   "source": [
    "## Load Dataset\n",
    "\n",
    "Loading the preprocessed cleaned dataset."
   ]
  },
  {
   "cell_type": "code",
   "execution_count": 21,
   "id": "37c89db9",
   "metadata": {},
   "outputs": [],
   "source": [
    "\n",
    "# Load your cleaned dataset\n",
    "df_cleaned = pd.read_csv('indiana_reports_cleaned.csv')"
   ]
  },
  {
   "cell_type": "markdown",
   "id": "e7ae5cc2",
   "metadata": {},
   "source": [
    "## Initialize Azure Clients\n",
    "\n",
    "Setting up API clients for GPT-4.1 and GPT-4 models."
   ]
  },
  {
   "cell_type": "code",
   "execution_count": 22,
   "id": "a8250143",
   "metadata": {},
   "outputs": [],
   "source": [
    "# Set up Azure clients\n",
    "client_gpt41 = setup_azure_client_gpt41()\n",
    "client_gpt4o = setup_azure_client_gpt4o()\n"
   ]
  },
  {
   "cell_type": "markdown",
   "id": "f9c3cab7",
   "metadata": {},
   "source": [
    "## Process with GPT-4.1\n",
    "\n",
    "Generating impressions using GPT-4.1:\n",
    "1. Process 50% random sample of the dataset\n",
    "2. Save results to CSV\n",
    "3. Close client connection"
   ]
  },
  {
   "cell_type": "code",
   "execution_count": 23,
   "id": "44d7703a",
   "metadata": {},
   "outputs": [
    {
     "name": "stdout",
     "output_type": "stream",
     "text": [
      "✅ Saved results to 'gpt4_1_acute_findings_vs_ground_truth.csv'\n"
     ]
    }
   ],
   "source": [
    "\n",
    "# Process random 50% sample with GPT-4.1\n",
    "results_gpt41 = process_samples(\n",
    "    df_cleaned,\n",
    "    client_gpt41,\n",
    "    model_name=\"gpt-4.1\",\n",
    "    sample_fraction=0.5\n",
    ")\n",
    "\n",
    "# Save results\n",
    "results_gpt41.to_csv(\"gpt4_1_acute_findings_vs_ground_truth.csv\", index=False)\n",
    "print(\"✅ Saved results to 'gpt4_1_acute_findings_vs_ground_truth.csv'\")\n",
    "\n",
    "# Close client\n",
    "client_gpt41.close()\n"
   ]
  },
  {
   "cell_type": "markdown",
   "id": "c2fb8731",
   "metadata": {},
   "source": [
    "## Calculate GPT-4.1 BERTScore\n",
    "\n",
    "Computing BERTScore metrics for GPT-4.1 generated impressions against ground truth."
   ]
  },
  {
   "cell_type": "code",
   "execution_count": 24,
   "id": "254a062f",
   "metadata": {},
   "outputs": [
    {
     "name": "stderr",
     "output_type": "stream",
     "text": [
      "c:\\Yaniv2\\pymol\\lib\\site-packages\\huggingface_hub\\file_download.py:143: UserWarning: `huggingface_hub` cache-system uses symlinks by default to efficiently store duplicated files but your machine does not support them in C:\\Users\\yaniv\\.cache\\huggingface\\hub\\models--roberta-large. Caching files will still work but in a degraded version that might require more space on your disk. This warning can be disabled by setting the `HF_HUB_DISABLE_SYMLINKS_WARNING` environment variable. For more details, see https://huggingface.co/docs/huggingface_hub/how-to-cache#limitations.\n",
      "To support symlinks on Windows, you either need to activate Developer Mode or to run Python as an administrator. In order to activate developer mode, see this article: https://docs.microsoft.com/en-us/windows/apps/get-started/enable-your-device-for-development\n",
      "  warnings.warn(message)\n",
      "Xet Storage is enabled for this repo, but the 'hf_xet' package is not installed. Falling back to regular HTTP download. For better performance, install the package with: `pip install huggingface_hub[hf_xet]` or `pip install hf_xet`\n",
      "Some weights of RobertaModel were not initialized from the model checkpoint at roberta-large and are newly initialized: ['pooler.dense.bias', 'pooler.dense.weight']\n",
      "You should probably TRAIN this model on a down-stream task to be able to use it for predictions and inference.\n"
     ]
    },
    {
     "name": "stdout",
     "output_type": "stream",
     "text": [
      "calculating scores...\n",
      "computing bert embedding.\n"
     ]
    },
    {
     "name": "stderr",
     "output_type": "stream",
     "text": [
      "100%|██████████| 21/21 [00:09<00:00,  2.17it/s]\n"
     ]
    },
    {
     "name": "stdout",
     "output_type": "stream",
     "text": [
      "computing greedy matching.\n"
     ]
    },
    {
     "name": "stderr",
     "output_type": "stream",
     "text": [
      "100%|██████████| 27/27 [00:00<00:00, 45.95it/s]"
     ]
    },
    {
     "name": "stdout",
     "output_type": "stream",
     "text": [
      "done in 10.26 seconds, 162.31 sentences/sec\n",
      "BERTScore gpt41 F1 mean ± std: 0.8794 ± 0.0317\n"
     ]
    },
    {
     "name": "stderr",
     "output_type": "stream",
     "text": [
      "\n"
     ]
    }
   ],
   "source": [
    "from utils_file import setup_azure_client_gpt41, setup_azure_client_gpt4o, process_samples,setup_deepseek_client, process_deepseek_samples,compute_bertscore,run_yesno_equivalence_judgment\n",
    "\n",
    "bert_results_gpt41 = compute_bertscore(\n",
    "    results_gpt41,\n",
    "    candidate_col=\"acute_findings_report\",\n",
    "    reference_col=\"ground_truth_impression\",\n",
    "    name_prefix=\"gpt41\"\n",
    ")\n",
    "\n",
    "# נגישות לדוגמה:\n",
    "mean_f1_gpt41 = bert_results_gpt41[\"gpt41_mean\"]\n",
    "std_f1_gpt41 = bert_results_gpt41[\"gpt41_std\"]"
   ]
  },
  {
   "cell_type": "markdown",
   "id": "120f33a0",
   "metadata": {},
   "source": [
    "## Evaluate GPT-4.1 Clinical Equivalence\n",
    "\n",
    "Using GPT-4 to assess clinical equivalence between GPT-4.1 generated impressions and ground truth."
   ]
  },
  {
   "cell_type": "code",
   "execution_count": null,
   "id": "6ba6ad91",
   "metadata": {},
   "outputs": [
    {
     "name": "stdout",
     "output_type": "stream",
     "text": [
      "Processing row 1/1666\n",
      "Processing row 2/1666\n",
      "Processing row 3/1666\n",
      "Processing row 1665/1666\n",
      "Processing row 1666/1666\n",
      "Clinical Equivalence Rate: 1284/1666 = 77.1%\n",
      "✅ Saved equivalence results to 'gpt41_judged_results.csv'\n",
      "✅ Saved GPT-4.1 judged results to 'gpt41_judged_results.csv'\n"
     ]
    }
   ],
   "source": [
    "client_gpt4o = setup_azure_client_gpt4o()\n",
    "\n",
    "results_gpt41_judged = run_yesno_equivalence_judgment(\n",
    "    results_gpt41,\n",
    "    client_gpt4o,\n",
    "    model_name=\"gpt-4o\",\n",
    "    save_path=\"gpt41_judged_results.csv\"\n",
    ")\n",
    "\n",
    "print(\"✅ Saved GPT-4.1 judged results to 'gpt41_judged_results.csv'\")\n",
    "\n",
    "# Close GPT-4o client\n",
    "client_gpt4o.close()"
   ]
  },
  {
   "cell_type": "markdown",
   "id": "7c93561b",
   "metadata": {},
   "source": [
    "## Process with DeepSeek\n",
    "\n",
    "Generating impressions using DeepSeek model:\n",
    "1. Process 50% random sample of the dataset\n",
    "2. Save results to CSV\n",
    "3. Close client connection"
   ]
  },
  {
   "cell_type": "code",
   "execution_count": 38,
   "id": "daa9d6d0",
   "metadata": {},
   "outputs": [
    {
     "name": "stdout",
     "output_type": "stream",
     "text": [
      "❌ Error on idx 2273: 'NoneType' object has no attribute 'strip'\n",
      "✅ Saved DeepSeek results to 'deepseek_acute_findings_vs_ground_truth.csv'\n"
     ]
    }
   ],
   "source": [
    "\n",
    "# Set up DeepSeek client\n",
    "client_deepseek = setup_deepseek_client()\n",
    "\n",
    "# Process random 50% sample with DeepSeek\n",
    "results_deepseek = process_deepseek_samples(\n",
    "    df_cleaned,\n",
    "    client_deepseek,\n",
    "    model_name=\"DeepSeek-V3-0324\",\n",
    "    sample_fraction=0.5\n",
    ")\n",
    "    \n",
    "\n",
    "# Save results\n",
    "results_deepseek.to_csv(\"deepseek_acute_findings_vs_ground_truth.csv\", index=False)\n",
    "print(\"✅ Saved DeepSeek results to 'deepseek_acute_findings_vs_ground_truth.csv'\")\n",
    "\n",
    "# Close DeepSeek client\n",
    "client_deepseek.close()"
   ]
  },
  {
   "cell_type": "markdown",
   "id": "d55b8b7a",
   "metadata": {},
   "source": [
    "## Calculate DeepSeek BERTScore\n",
    "\n",
    "Computing BERTScore metrics for DeepSeek generated impressions against ground truth."
   ]
  },
  {
   "cell_type": "code",
   "execution_count": 39,
   "id": "65496feb",
   "metadata": {},
   "outputs": [
    {
     "name": "stderr",
     "output_type": "stream",
     "text": [
      "Some weights of RobertaModel were not initialized from the model checkpoint at roberta-large and are newly initialized: ['pooler.dense.bias', 'pooler.dense.weight']\n",
      "You should probably TRAIN this model on a down-stream task to be able to use it for predictions and inference.\n"
     ]
    },
    {
     "name": "stdout",
     "output_type": "stream",
     "text": [
      "calculating scores...\n",
      "computing bert embedding.\n"
     ]
    },
    {
     "name": "stderr",
     "output_type": "stream",
     "text": [
      "100%|██████████| 20/20 [00:07<00:00,  2.58it/s]\n"
     ]
    },
    {
     "name": "stdout",
     "output_type": "stream",
     "text": [
      "computing greedy matching.\n"
     ]
    },
    {
     "name": "stderr",
     "output_type": "stream",
     "text": [
      "100%|██████████| 27/27 [00:00<00:00, 76.78it/s]"
     ]
    },
    {
     "name": "stdout",
     "output_type": "stream",
     "text": [
      "done in 8.11 seconds, 205.49 sentences/sec\n",
      "BERTScore deepseek F1 mean ± std: 0.8826 ± 0.0319\n"
     ]
    },
    {
     "name": "stderr",
     "output_type": "stream",
     "text": [
      "\n"
     ]
    }
   ],
   "source": [
    "bert_results_deepseek = compute_bertscore(\n",
    "    results_deepseek,\n",
    "    candidate_col=\"acute_findings_report\",\n",
    "    reference_col=\"ground_truth_impression\",\n",
    "    name_prefix=\"deepseek\"\n",
    ")\n",
    "\n",
    "mean_f1_deepseek = bert_results_deepseek[\"deepseek_mean\"]\n",
    "std_f1_deepseek = bert_results_deepseek[\"deepseek_std\"]\n",
    "\n"
   ]
  },
  {
   "cell_type": "markdown",
   "id": "a3f4a34c",
   "metadata": {},
   "source": [
    "## Evaluate DeepSeek Clinical Equivalence\n",
    "\n",
    "Using GPT-4 to assess clinical equivalence between DeepSeek generated impressions and ground truth."
   ]
  },
  {
   "cell_type": "code",
   "execution_count": null,
   "id": "9b45b8ba",
   "metadata": {},
   "outputs": [
    {
     "name": "stdout",
     "output_type": "stream",
     "text": [
      "Processing row 1/1666\n",
      "Processing row 2/1666\n",
      "Processing row 3/1666\n",
      "Processing row 4/1666\n",
      "Processing row 1665/1666\n",
      "Processing row 1666/1666\n",
      "Clinical Equivalence Rate: 1309/1666 = 78.6%\n",
      "✅ Saved equivalence results to 'deepseek_judged_results.csv'\n",
      "✅ Saved DeepSeek judged results to 'deepseek_judged_results.csv'\n"
     ]
    }
   ],
   "source": [
    "\n",
    "# שיפוט עם GPT-4o על תוצאות DeepSeek\n",
    "\n",
    "client_gpt4o = setup_azure_client_gpt4o()\n",
    "\n",
    "results_deepseek_judged = run_yesno_equivalence_judgment(\n",
    "    results_deepseek,\n",
    "    client_gpt4o,  # assuming this was defined earlier\n",
    "    model_name=\"gpt-4o\",\n",
    "    save_path=\"deepseek_judged_results.csv\"\n",
    ")\n",
    "\n",
    "print(\"✅ Saved DeepSeek judged results to 'deepseek_judged_results.csv'\")\n",
    "\n",
    "# Close the GPT-4o client if this is the end:\n",
    "client_gpt4o.close()\n"
   ]
  },
  {
   "cell_type": "markdown",
   "id": "ef07284d",
   "metadata": {},
   "source": [
    "## Compute Accuracy Metrics\n",
    "\n",
    "Calculating clinical equivalence accuracy scores for both models based on GPT-4's evaluation."
   ]
  },
  {
   "cell_type": "code",
   "execution_count": null,
   "id": "a9cc5d96",
   "metadata": {},
   "outputs": [],
   "source": [
    "\n",
    "correct_gpt41, total_gpt41, llmjudge_gpt41 = compute_llmjudge_accuracy(results_gpt41_judged)\n",
    "correct_deepseek, total_deepseek, llmjudge_deepseek = compute_llmjudge_accuracy(results_deepseek_judged)\n",
    "\n"
   ]
  },
  {
   "cell_type": "markdown",
   "id": "e12168d3",
   "metadata": {},
   "source": [
    "## Visualize Results Comparison\n",
    "\n",
    "Creating a comparative visualization showing:\n",
    "1. Clinical Equivalence Rate (%) from GPT-4 evaluation\n",
    "2. BERTScore F1 scores with standard deviation\n",
    "for both GPT-4.1 and DeepSeek models."
   ]
  },
  {
   "cell_type": "code",
   "execution_count": null,
   "id": "aa4e86d7",
   "metadata": {},
   "outputs": [
    {
     "data": {
      "image/png": "[encoded data removed]",
      "text/plain": [
       "<Figure size 1000x600 with 2 Axes>"
      ]
     },
     "metadata": {},
     "output_type": "display_data"
    }
   ],
   "source": [
    "import numpy as np\n",
    "import matplotlib.pyplot as plt\n",
    "\n",
    "# Labels\n",
    "labels = ['GPT-4.1', 'DeepSeek']\n",
    "\n",
    "\n",
    "# Clinical Equivalence Rate (%)\n",
    "llmjudge_scores = [llmjudge_gpt41, llmjudge_deepseek]\n",
    "\n",
    "# BERTScore means and stds\n",
    "bertscore_means = [mean_f1_gpt41, mean_f1_deepseek]\n",
    "bertscore_stds = [std_f1_gpt41, std_f1_deepseek]\n",
    "\n",
    "x = np.arange(len(labels))\n",
    "width = 0.35\n",
    "\n",
    "# Create figure and axes\n",
    "fig, ax1 = plt.subplots(figsize=(10, 6))\n",
    "\n",
    "# Bar plot for Clinical Equivalence Rate\n",
    "bar1 = ax1.bar(x - width/2, llmjudge_scores, width, label='Clinical Equivalence (%)', color='tab:blue')\n",
    "ax1.set_ylabel('Clinical Equivalence (%)', color='tab:blue')\n",
    "ax1.set_ylim(0, 100)\n",
    "ax1.set_xticks(x)\n",
    "ax1.set_xticklabels(labels)\n",
    "ax1.tick_params(axis='y', labelcolor='tab:blue')\n",
    "\n",
    "# Second y-axis for BERTScore\n",
    "ax2 = ax1.twinx()\n",
    "bar2 = ax2.bar(x + width/2, bertscore_means, width, yerr=bertscore_stds, label='BERTScore F1', color='tab:orange', capsize=5)\n",
    "ax2.set_ylabel('BERTScore F1', color='tab:orange')\n",
    "ax2.set_ylim(0, 1)\n",
    "ax2.tick_params(axis='y', labelcolor='tab:orange')\n",
    "\n",
    "# Titles and legend\n",
    "plt.title('Performance Comparison: GPT-4.1 vs DeepSeek')\n",
    "fig.legend(loc='upper left', bbox_to_anchor=(0.1, 0.9))\n",
    "\n",
    "# Show grid\n",
    "ax1.grid(axis='y', linestyle='--', alpha=0.7)\n",
    "\n",
    "plt.tight_layout()\n",
    "plt.show()\n"
   ]
  }
 ],
 "metadata": {
  "kernelspec": {
   "display_name": "base",
   "language": "python",
   "name": "python3"
  },
  "language_info": {
   "codemirror_mode": {
    "name": "ipython",
    "version": 3
   },
   "file_extension": ".py",
   "mimetype": "text/x-python",
   "name": "python",
   "nbconvert_exporter": "python",
   "pygments_lexer": "ipython3",
   "version": "3.10.14"
  }
 },
 "nbformat": 4,
 "nbformat_minor": 5
}
